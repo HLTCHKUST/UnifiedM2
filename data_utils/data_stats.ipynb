{
 "cells": [
  {
   "cell_type": "code",
   "execution_count": 1,
   "metadata": {},
   "outputs": [],
   "source": [
    "import json\n",
    "import pickle\n",
    "import os\n",
    "import numpy as np\n",
    "import pandas as pd\n",
    "from tqdm import tqdm\n",
    "from collections import Counter\n",
    "from bs4 import BeautifulSoup\n",
    "from nltk import word_tokenize\n",
    "# from hltc_preprocess.tweets import clean_tweet, tokenize_tweets\n",
    "from nltk.tokenize import TweetTokenizer\n",
    "from spacy.lang.en import English\n",
    "import operator"
   ]
  },
  {
   "cell_type": "code",
   "execution_count": 2,
   "metadata": {},
   "outputs": [],
   "source": [
    "root_dir = '/home/nayeon7lee/misinfo_data'"
   ]
  },
  {
   "cell_type": "code",
   "execution_count": 3,
   "metadata": {
    "scrolled": true
   },
   "outputs": [
    {
     "name": "stdout",
     "output_type": "stream",
     "text": [
      "ls: cannot access /home/nayeon7lee/misinfo_data/fever/train: No such file or directory\r\n"
     ]
    }
   ],
   "source": [
    "! ls /home/nayeon7lee/misinfo_data/fever/train"
   ]
  },
  {
   "cell_type": "code",
   "execution_count": 4,
   "metadata": {},
   "outputs": [],
   "source": [
    "def get_sorted_unique_tokens(text_arr, tokenizer, remove_stopword=False):\n",
    "    all_tokens = []\n",
    "    for text in text_arr:\n",
    "        tokens = tokenizer(text.lower())\n",
    "        if remove_stopword:\n",
    "            all_tokens.extend([t.text for t in tokens if not t.is_stop and not t.is_punct])\n",
    "        else:\n",
    "            all_tokens.extend([t.text for t in tokens if not t.is_punct])\n",
    "        \n",
    "    token_counter = Counter(all_tokens)\n",
    "    sorted_token_list = sorted(token_counter.items(), key=operator.itemgetter(1), reverse=True)\n",
    "    \n",
    "    return sorted_token_list"
   ]
  },
  {
   "cell_type": "code",
   "execution_count": 5,
   "metadata": {},
   "outputs": [],
   "source": [
    "nlp = English()\n",
    "tokenizer = nlp.Defaults.create_tokenizer(nlp)"
   ]
  },
  {
   "cell_type": "markdown",
   "metadata": {},
   "source": [
    "##### Load dataset"
   ]
  },
  {
   "cell_type": "markdown",
   "metadata": {},
   "source": [
    "##### Clickbait SNS post"
   ]
  },
  {
   "cell_type": "code",
   "execution_count": 23,
   "metadata": {},
   "outputs": [
    {
     "name": "stdout",
     "output_type": "stream",
     "text": [
      "instances.jsonl  media\ttruth.jsonl\r\n"
     ]
    }
   ],
   "source": [
    "! ls /home/nayeon7lee/misinfo_data/clickbait/"
   ]
  },
  {
   "cell_type": "code",
   "execution_count": 28,
   "metadata": {},
   "outputs": [],
   "source": [
    "with open('/home/nayeon7lee/misinfo_data/clickbait/truth.jsonl', 'r') as json_file:\n",
    "    json_list = list(json_file)\n",
    "#     clickbait_sns_text_data = [\" \".join(json.loads(json_str)['postText']) for json_str in json_list]\n",
    "#     clickbait_sns_target_text_data = [\" \".join(json.loads(json_str)['targetParagraphs']) for json_str in json_list]\n",
    " "
   ]
  },
  {
   "cell_type": "code",
   "execution_count": 29,
   "metadata": {},
   "outputs": [
    {
     "data": {
      "text/plain": [
       "{'truthJudgments': [1.0, 1.0, 1.0, 1.0, 1.0],\n",
       " 'truthMean': 1.0,\n",
       " 'id': '858464162594172928',\n",
       " 'truthClass': 'clickbait',\n",
       " 'truthMedian': 1.0,\n",
       " 'truthMode': 1.0}"
      ]
     },
     "execution_count": 29,
     "metadata": {},
     "output_type": "execute_result"
    }
   ],
   "source": [
    "json.loads(json_list[0])"
   ]
  },
  {
   "cell_type": "code",
   "execution_count": 20,
   "metadata": {},
   "outputs": [],
   "source": [
    "# {\"postMedia\": [], \"postText\": [\"UK\\u2019s response to modern slavery leaving victims destitute while abusers go free\"], \"id\": \"858462320779026433\", \"targetCaptions\": [\"modern-slavery-rex.jpg\"], \"targetParagraphs\": [\"Thousands of modern slavery victims have\\u00a0not come forward, while others who have chosen to report their enslavers have ended up destitute as a result of insufficient support, say\\u00a0MPs\", \"\\u201cInexcusable\\u201d failures in the UK\\u2019s system for dealing with modern slavery are\\u00a0leaving victims reduced to destitution while their abusers go free because they are not adequately supported to testify against them, an alarming report has warned.\", \"Thousands of\\u00a0victims\\u00a0have not come forward, while others who have chosen to give evidence against their enslavers have ended up destitute as a result of insufficient support, according to\\u00a0a report published\\u00a0today by\\u00a0the Work and Pensions Committee.\", \"It is estimated there are between 10,000 and 13,000 victims of modern slavery in the UK, but the report\\u00a0warns that failings in the current mechanism mean\\u00a0that once they are identified, they have no automatic formal immigration status or rights.\", \"Weak and uncoordinated frontline support means victims are often faced with a total lack of understanding or even recognition of their situation, which in turn has a negative impact on the number of successful prosecutions of slave masters, according to the findings.\", \"One, Client M, told the Committee he managed to escape from his traffickers, but it took four years before someone recognised that he was a potential victim of modern slavery. According to the report, his adviser in the Jobcentre, who knew his story, did not pick up on his situation, and it took four years before someone finally offered him the help he required.\", \"The report also found that no data is collected on victims once they leave the National Referral Mechanism (NRM) \\u2013 the UK\\u2019s framework for identifying victims of human trafficking and ensuring they receive protection and support \\u2013 and that the recording of data that is collected was \\u201cgenerally substandard\\u201d.\", \"The Committee said it was \\u201cunacceptable\\u201d that the Government did not monitor the re-trafficking of victims and urged that reform to the NRM must include the recording of instances where victims have been processed through the framework more than once.\", \"As part of the inquiry, Baroness Butler-Sloss, Trustee of the Human Trafficking Foundation who helped draft the modern slavery bill in 2014, said the outcome of the NRM\\u00a0process was \\u201cnothing but a piece of paper\\u201d to victims.\", \"\\u201cIt is an extremely unattractive anomaly and an extremely expensive process putting a person through the NRM to get a positive outcome that everybody accepts that person is the victim of an appalling crime,\\u201d she added.\", \"\\u201cAt that stage, having spent all that money, having gone through all that process, there is no result except a piece of paper.\\u201d\", \"Problems surrounding asylum rights were also noted in the report, in its findings that\\u00a0being\\u00a0a victim of slavery through the NRM confers no equivalent right to remain for any period, while\\u00a0recognition as a refugee grants an initial period of five years\\u2019 leave to remain in the UK.\", \"The damning findings come less than a year\\u00a0after Theresa May announced\\u00a0on entering Downing Street\\u00a0that\\u00a0Britain would\\u00a0lead the fight against modern slavery,\\u00a0calling\\u00a0it \\u201cthe greatest human rights issue of our time\\u201d, and pledging a \\u00a333m\\u00a0boost to coordinating\\u00a0the Government response to the issue.\", \"The inquiry, launched at the request of the UK\\u2019s Independent Anti-Slavery Commissioner after he wrote to the Committee expressing his concerns that the support for victims of modern slavery was \\u201cinadequate\\u201d, made a number of urgent\\u00a0recommendations.\", \"It suggested that all confirmed victims of modern slavery should be given at least one year\\u2019s leave to remain with a personal plan for their recovery, which it said should act as a \\u201csocial passport\\u201d to support for at least the 12-month period of leave to remain.\", \"Training on how to spot signs of slavery and deal sensitively with identified victims should\\u00a0be greatly improved among frontline Department for Work and Pensions (DWP) staff, who are often not aware of modern slavery, the Committee said.\", \"The report also urged that the Government must undertake an urgent review of the benefit support available to victims, including those who are assisting the police with investigations.\", \"Kate Roberts, head of office at the Human Trafficking Foundation, welcomed the findings\\u00a0and said changes were \\u201cmuch needed\\u201d in a system that currently leaves victims of modern slavery without support and unable to unpack the trauma they\\u2019ve been subjected to.\", \"\\u201cIt\\u2019s\\u00a0good to see such a detailed report that really shines a light on what happens to victims after\\u00a0the identification of modern slavery. I really welcome the\\u00a0recommendations \\u2013 they are much needed,\\\"\\u00a0Ms Roberts told The Independent.\", \"\\\"At the moment the 'recovery period' is actually the period during which it is being\\u00a0decided\\u00a0whether they are victims or\\u00a0not. I don't see how it is a recovery period. If\\u00a0there's\\u00a0so much uncertainty in your life and you've come from this extreme trauma, I don't think you can really begin to unpack that trauma and recover when you've got all the uncertainty around the corner.\", \"\\u201cUntil now, our whole system has just focused on the identification of victims. They go through this really quite traumatic process of having to disclose what\\u2019s happened to them and almost relive it, and then the decision is made that they are a victim and it doesn\\u2019t really make a difference. They think now they\\u2019'll be okay because the Government believes them, but in fact\\u00a0it often doesn\\u2019t mean anything.\", \"\\u201cIf these recommendations\\u00a0were implemented it really would change that. Many victims will take longer than a year to recover, but at least they would have time to get relevant advice\\u00a0and put the necessary applications in.\\u201d\", \"In light of the findings,\\u00a0chair of the Committee\\u00a0Frank Field MP\\u00a0said: \\u201cWhile we applaud the leading role the UK has taken in tackling this \\u2018barbaric crime\\u2019, as the Prime Minister has called it, when you consider what is at stake, there is a shocking lack of awareness and co-ordination in the frontline services dealing with modern slavery.\", \"\\u201cWhat these people go through is unimaginable, and yet it is happening, here and now, and our response seems almost lackadaisical: a paper exercise earning you recognition as having been enslaved, which then entitles you to almost nothing as far as we can see.\\u00a0\", \"\\u201cWe don\\u2019t even record instances where the same person is thrown back into this hell, even though that is surely the clearest sign of the failures in our response. No society worth its salt can allow this to continue, or fail to support those who fall victim.\\u201d\", \"Mr Field urged the Prime Minister to go further in the Modern Slavery Act she brought in as Home Secretary in 2015, by conducting an urgent review and putting in place some \\u201cbasic minimum safeguards\\u201d in order to support victims.\", \"\\u201cThe Prime Minister now needs to open up a further front in her Modern Slavery Act,\\u201d he said.\", \"\\u201cThe incoming Government must conduct an urgent review of our national response and put in place some basic minimum safeguards, status\\u00a0that will allow a person to begin to rebuild a life, testify against their abuser if they feel able\\u00a0and, above all, be protected from the unimaginable but real possibility of falling victim again.\\u201d\"], \"targetTitle\": \"\\u2018Inexcusable\\u2019 failures in UK\\u2019s response to modern slavery leaving victims destitute while abusers go free, report warns\", \"postTimestamp\": \"Sat Apr 29 23:25:41 +0000 2017\", \"targetKeywords\": \"modern slavery, Department For Work And Pensions, People Trafficking, Frank Field, Home News, UK, News\", \"targetDescription\": \"\\u201cInexcusable\\u201d failures in the UK\\u2019s system for dealing with modern slavery are\\u00a0leaving victims reduced to destitution while their abusers go free because they are not adequately supported to testify against them, an alarming report has warned.\"}\n",
    "\n",
    "# postText\n",
    "# targetParagraphs\n",
    "\n",
    "with open('/home/nayeon7lee/misinfo_data/clickbait17-validation-170630/instances.jsonl', 'r') as json_file:\n",
    "    json_list = list(json_file)\n",
    "    clickbait_sns_text_data = [\" \".join(json.loads(json_str)['postText']) for json_str in json_list]\n",
    "    clickbait_sns_target_text_data = [\" \".join(json.loads(json_str)['targetParagraphs']) for json_str in json_list]\n",
    "    "
   ]
  },
  {
   "cell_type": "code",
   "execution_count": 21,
   "metadata": {},
   "outputs": [
    {
     "data": {
      "text/plain": [
       "dict_keys(['postMedia', 'postText', 'id', 'targetCaptions', 'targetParagraphs', 'targetTitle', 'postTimestamp', 'targetKeywords', 'targetDescription'])"
      ]
     },
     "execution_count": 21,
     "metadata": {},
     "output_type": "execute_result"
    }
   ],
   "source": [
    "json.loads(json_list[0]).keys()"
   ]
  },
  {
   "cell_type": "code",
   "execution_count": 22,
   "metadata": {},
   "outputs": [
    {
     "data": {
      "text/plain": [
       "{'postMedia': [],\n",
       " 'postText': ['UK’s response to modern slavery leaving victims destitute while abusers go free'],\n",
       " 'id': '858462320779026433',\n",
       " 'targetCaptions': ['modern-slavery-rex.jpg'],\n",
       " 'targetParagraphs': ['Thousands of modern slavery victims have\\xa0not come forward, while others who have chosen to report their enslavers have ended up destitute as a result of insufficient support, say\\xa0MPs',\n",
       "  '“Inexcusable” failures in the UK’s system for dealing with modern slavery are\\xa0leaving victims reduced to destitution while their abusers go free because they are not adequately supported to testify against them, an alarming report has warned.',\n",
       "  'Thousands of\\xa0victims\\xa0have not come forward, while others who have chosen to give evidence against their enslavers have ended up destitute as a result of insufficient support, according to\\xa0a report published\\xa0today by\\xa0the Work and Pensions Committee.',\n",
       "  'It is estimated there are between 10,000 and 13,000 victims of modern slavery in the UK, but the report\\xa0warns that failings in the current mechanism mean\\xa0that once they are identified, they have no automatic formal immigration status or rights.',\n",
       "  'Weak and uncoordinated frontline support means victims are often faced with a total lack of understanding or even recognition of their situation, which in turn has a negative impact on the number of successful prosecutions of slave masters, according to the findings.',\n",
       "  'One, Client M, told the Committee he managed to escape from his traffickers, but it took four years before someone recognised that he was a potential victim of modern slavery. According to the report, his adviser in the Jobcentre, who knew his story, did not pick up on his situation, and it took four years before someone finally offered him the help he required.',\n",
       "  'The report also found that no data is collected on victims once they leave the National Referral Mechanism (NRM) – the UK’s framework for identifying victims of human trafficking and ensuring they receive protection and support – and that the recording of data that is collected was “generally substandard”.',\n",
       "  'The Committee said it was “unacceptable” that the Government did not monitor the re-trafficking of victims and urged that reform to the NRM must include the recording of instances where victims have been processed through the framework more than once.',\n",
       "  'As part of the inquiry, Baroness Butler-Sloss, Trustee of the Human Trafficking Foundation who helped draft the modern slavery bill in 2014, said the outcome of the NRM\\xa0process was “nothing but a piece of paper” to victims.',\n",
       "  '“It is an extremely unattractive anomaly and an extremely expensive process putting a person through the NRM to get a positive outcome that everybody accepts that person is the victim of an appalling crime,” she added.',\n",
       "  '“At that stage, having spent all that money, having gone through all that process, there is no result except a piece of paper.”',\n",
       "  'Problems surrounding asylum rights were also noted in the report, in its findings that\\xa0being\\xa0a victim of slavery through the NRM confers no equivalent right to remain for any period, while\\xa0recognition as a refugee grants an initial period of five years’ leave to remain in the UK.',\n",
       "  'The damning findings come less than a year\\xa0after Theresa May announced\\xa0on entering Downing Street\\xa0that\\xa0Britain would\\xa0lead the fight against modern slavery,\\xa0calling\\xa0it “the greatest human rights issue of our time”, and pledging a £33m\\xa0boost to coordinating\\xa0the Government response to the issue.',\n",
       "  'The inquiry, launched at the request of the UK’s Independent Anti-Slavery Commissioner after he wrote to the Committee expressing his concerns that the support for victims of modern slavery was “inadequate”, made a number of urgent\\xa0recommendations.',\n",
       "  'It suggested that all confirmed victims of modern slavery should be given at least one year’s leave to remain with a personal plan for their recovery, which it said should act as a “social passport” to support for at least the 12-month period of leave to remain.',\n",
       "  'Training on how to spot signs of slavery and deal sensitively with identified victims should\\xa0be greatly improved among frontline Department for Work and Pensions (DWP) staff, who are often not aware of modern slavery, the Committee said.',\n",
       "  'The report also urged that the Government must undertake an urgent review of the benefit support available to victims, including those who are assisting the police with investigations.',\n",
       "  'Kate Roberts, head of office at the Human Trafficking Foundation, welcomed the findings\\xa0and said changes were “much needed” in a system that currently leaves victims of modern slavery without support and unable to unpack the trauma they’ve been subjected to.',\n",
       "  '“It’s\\xa0good to see such a detailed report that really shines a light on what happens to victims after\\xa0the identification of modern slavery. I really welcome the\\xa0recommendations – they are much needed,\"\\xa0Ms Roberts told The Independent.',\n",
       "  '\"At the moment the \\'recovery period\\' is actually the period during which it is being\\xa0decided\\xa0whether they are victims or\\xa0not. I don\\'t see how it is a recovery period. If\\xa0there\\'s\\xa0so much uncertainty in your life and you\\'ve come from this extreme trauma, I don\\'t think you can really begin to unpack that trauma and recover when you\\'ve got all the uncertainty around the corner.',\n",
       "  \"“Until now, our whole system has just focused on the identification of victims. They go through this really quite traumatic process of having to disclose what’s happened to them and almost relive it, and then the decision is made that they are a victim and it doesn’t really make a difference. They think now they’'ll be okay because the Government believes them, but in fact\\xa0it often doesn’t mean anything.\",\n",
       "  '“If these recommendations\\xa0were implemented it really would change that. Many victims will take longer than a year to recover, but at least they would have time to get relevant advice\\xa0and put the necessary applications in.”',\n",
       "  'In light of the findings,\\xa0chair of the Committee\\xa0Frank Field MP\\xa0said: “While we applaud the leading role the UK has taken in tackling this ‘barbaric crime’, as the Prime Minister has called it, when you consider what is at stake, there is a shocking lack of awareness and co-ordination in the frontline services dealing with modern slavery.',\n",
       "  '“What these people go through is unimaginable, and yet it is happening, here and now, and our response seems almost lackadaisical: a paper exercise earning you recognition as having been enslaved, which then entitles you to almost nothing as far as we can see.\\xa0',\n",
       "  '“We don’t even record instances where the same person is thrown back into this hell, even though that is surely the clearest sign of the failures in our response. No society worth its salt can allow this to continue, or fail to support those who fall victim.”',\n",
       "  'Mr Field urged the Prime Minister to go further in the Modern Slavery Act she brought in as Home Secretary in 2015, by conducting an urgent review and putting in place some “basic minimum safeguards” in order to support victims.',\n",
       "  '“The Prime Minister now needs to open up a further front in her Modern Slavery Act,” he said.',\n",
       "  '“The incoming Government must conduct an urgent review of our national response and put in place some basic minimum safeguards, status\\xa0that will allow a person to begin to rebuild a life, testify against their abuser if they feel able\\xa0and, above all, be protected from the unimaginable but real possibility of falling victim again.”'],\n",
       " 'targetTitle': '‘Inexcusable’ failures in UK’s response to modern slavery leaving victims destitute while abusers go free, report warns',\n",
       " 'postTimestamp': 'Sat Apr 29 23:25:41 +0000 2017',\n",
       " 'targetKeywords': 'modern slavery, Department For Work And Pensions, People Trafficking, Frank Field, Home News, UK, News',\n",
       " 'targetDescription': '“Inexcusable” failures in the UK’s system for dealing with modern slavery are\\xa0leaving victims reduced to destitution while their abusers go free because they are not adequately supported to testify against them, an alarming report has warned.'}"
      ]
     },
     "execution_count": 22,
     "metadata": {},
     "output_type": "execute_result"
    }
   ],
   "source": [
    "json.loads(json_list[0])"
   ]
  },
  {
   "cell_type": "code",
   "execution_count": 14,
   "metadata": {},
   "outputs": [],
   "source": [
    "# sorted_clickbait_sns_utokens = get_sorted_unique_tokens(clickbait_sns_text_data, tokenizer, True)\n",
    "# sorted_clickbait_sns_utokens[:1000]"
   ]
  },
  {
   "cell_type": "code",
   "execution_count": 15,
   "metadata": {},
   "outputs": [],
   "source": [
    "# sorted_clickbait_target_utokens = get_sorted_unique_tokens(clickbait_sns_target_text_data, tokenizer, True)\n",
    "# sorted_clickbait_target_utokens[:1000]"
   ]
  },
  {
   "cell_type": "markdown",
   "metadata": {},
   "source": [
    "##### BASIL"
   ]
  },
  {
   "cell_type": "code",
   "execution_count": 16,
   "metadata": {},
   "outputs": [],
   "source": [
    "from os import listdir\n",
    "from os.path import isfile, join\n",
    "\n",
    "basil_path = '/home/nayeon7lee/misinfo_data/emnlp19-BASIL/data'\n",
    "basil_filenames = [f for f in listdir(basil_path) if isfile(join(basil_path, f))]\n",
    "basil_data_arr = []\n",
    "for name in basil_filenames:\n",
    "    with open('{}/{}'.format(basil_path, name), 'r') as json_file:\n",
    "        basil_text_data = \" \".join([sent['sentence'] for sent in json.loads(json_file.read())['body']])\n",
    "    basil_data_arr.append(basil_text_data)"
   ]
  },
  {
   "cell_type": "code",
   "execution_count": 17,
   "metadata": {},
   "outputs": [
    {
     "data": {
      "text/plain": [
       "300"
      ]
     },
     "execution_count": 17,
     "metadata": {},
     "output_type": "execute_result"
    }
   ],
   "source": [
    "len(basil_data_arr)"
   ]
  },
  {
   "cell_type": "code",
   "execution_count": 18,
   "metadata": {},
   "outputs": [],
   "source": [
    "# sorted_basil_utokens = get_sorted_unique_tokens(basil_data_arr, tokenizer, True)\n",
    "# sorted_basil_utokens[:1000]"
   ]
  },
  {
   "cell_type": "markdown",
   "metadata": {},
   "source": [
    "##### FEVER"
   ]
  },
  {
   "cell_type": "code",
   "execution_count": 19,
   "metadata": {},
   "outputs": [],
   "source": [
    "with open('/home/nayeon7lee/misinfo_data/fever/train.jsonl', 'r') as json_file:\n",
    "    json_list = list(json_file)\n",
    "    fever_text_data = [json.loads(json_str)['claim'] for json_str in json_list]"
   ]
  },
  {
   "cell_type": "code",
   "execution_count": 20,
   "metadata": {},
   "outputs": [
    {
     "data": {
      "text/plain": [
       "145449"
      ]
     },
     "execution_count": 20,
     "metadata": {},
     "output_type": "execute_result"
    }
   ],
   "source": [
    "len(fever_text_data)"
   ]
  },
  {
   "cell_type": "code",
   "execution_count": 21,
   "metadata": {},
   "outputs": [],
   "source": [
    "# sorted_fever_utokens = get_sorted_unique_tokens(fever_text_data, tokenizer, True)\n",
    "# sorted_fever_utokens[:1000]"
   ]
  },
  {
   "cell_type": "markdown",
   "metadata": {},
   "source": [
    "##### LIAR"
   ]
  },
  {
   "cell_type": "code",
   "execution_count": 12,
   "metadata": {},
   "outputs": [],
   "source": [
    "def liar_df2objects(df):\n",
    "    objs = []\n",
    "    for _, row in df.iterrows():\n",
    "        obj = {\n",
    "            'id': row['id'],\n",
    "            'label': row['label'],\n",
    "            'text': row['text'],\n",
    "            'subject': row['subject'],\n",
    "            'speaker_info': {'speaker': row['speaker'],\n",
    "                            'job': row['speaker_job'],\n",
    "                            'state': row['state'],\n",
    "                            'party': row['party']},\n",
    "            'credibility': {'barely_true': row['barely_true'],\n",
    "                            'false': row['false'],\n",
    "                            'half_true': row['half_true'],\n",
    "                            'mostly_true': row['mostly_true'],\n",
    "                            'pants_on_fire': row['pants_on_fire']},\n",
    "            'location': row['location']\n",
    "        }\n",
    "        objs += obj,\n",
    "    return objs\n",
    "\n",
    "def load_liar(root_dir):\n",
    "    liar_train_path = '{}/{}'.format(root_dir, 'liar/train.tsv')\n",
    "    liar_dev_path = '{}/{}'.format(root_dir, 'liar/valid.tsv')\n",
    "    liar_test_path = '{}/{}'.format(root_dir, 'liar/test.tsv')\n",
    "\n",
    "    liar_headers = ['id', 'label', 'text', 'subject','speaker', 'speaker_job',\n",
    "                    'state','party','barely_true','false','half_true',\n",
    "                    'mostly_true','pants_on_fire','location']\n",
    "\n",
    "    liar_train = pd.read_csv(liar_train_path, sep='\\t', names=liar_headers)\n",
    "    liar_dev = pd.read_csv(liar_dev_path, sep='\\t', names=liar_headers)\n",
    "    liar_test = pd.read_csv(liar_test_path, sep='\\t', names=liar_headers)\n",
    "\n",
    "    return liar_df2objects(liar_train) + liar_df2objects(liar_dev) + liar_df2objects(liar_test)"
   ]
  },
  {
   "cell_type": "code",
   "execution_count": 23,
   "metadata": {},
   "outputs": [],
   "source": [
    "liar_data = load_liar(root_dir)\n",
    "liar_data_text = [d['text'].lower() for d in liar_data]\n",
    "# sorted_liar_utokens = get_sorted_unique_tokens(liar_data_text, tokenizer, True)"
   ]
  },
  {
   "cell_type": "code",
   "execution_count": 24,
   "metadata": {},
   "outputs": [],
   "source": [
    "# sorted_liar_utokens[:1000]"
   ]
  },
  {
   "cell_type": "markdown",
   "metadata": {},
   "source": [
    "##### Webis"
   ]
  },
  {
   "cell_type": "code",
   "execution_count": 15,
   "metadata": {},
   "outputs": [],
   "source": [
    "def load_webis(annotation_path, articles_path):\n",
    "    # overview: XML,portal,orientation,veracity,url\n",
    "    annotation_df = pd.read_csv(annotation_path)\n",
    "    webis_data = []\n",
    "    for _, anno in annotation_df.iterrows():\n",
    "        # read xml file\n",
    "        article = {}\n",
    "        article['id'] = anno['XML']\n",
    "        article['portal'] = anno['portal']\n",
    "        article['political_orientation'] = anno['orientation']\n",
    "        article['veracity_label'] = anno['veracity']\n",
    "        with open(\"{}/{}\".format(articles_path, anno['XML'])) as fp:\n",
    "            xml = BeautifulSoup(fp)\n",
    "\n",
    "            article['text'] = xml.find('maintext').text.encode('utf8').decode('utf8')\n",
    "            article['author'] = xml.find('author').text\n",
    "            article['title'] = xml.find('title').text\n",
    "\n",
    "            hls = xml.find_all('hyperlink')\n",
    "            hls_array = []\n",
    "            for hl in hls:\n",
    "                hl_obj = { 'start': hl.find('start').string,\n",
    "                        'end': hl.find('end').string }\n",
    "                if 'href' in hl.attrs.keys():\n",
    "                    hl_obj['href'] = hl['href']\n",
    "                hls_array += hl_obj,\n",
    "            article['hyperlinks'] = hls_array\n",
    "\n",
    "            paragraph_spans = xml.find_all('paragraph')\n",
    "            ps_array = []\n",
    "            for ps in paragraph_spans:\n",
    "                ps_array += (ps.find('start').string, ps.find('end').string),\n",
    "            article['paragraph_spans'] = ps_array\n",
    "\n",
    "            quote_spans = xml.find_all('quote')\n",
    "            quote_array = []\n",
    "            for quote in quote_spans:\n",
    "                quote_array += (quote.find('start').string, quote.find('end').string),\n",
    "            article['quote_spans'] = quote_array\n",
    "\n",
    "        webis_data += article,\n",
    "\n",
    "    return webis_data\n",
    "\n",
    "webis_annotation = os.path.join(root_dir, 'webis/overview.csv')\n",
    "webis_article_path = os.path.join(root_dir, 'webis/articles')\n",
    "webis_articles = load_webis(webis_annotation, webis_article_path)"
   ]
  },
  {
   "cell_type": "code",
   "execution_count": 33,
   "metadata": {},
   "outputs": [
    {
     "data": {
      "text/plain": [
       "{'id': '0000.xml',\n",
       " 'portal': 'abc',\n",
       " 'political_orientation': 'mainstream',\n",
       " 'veracity_label': 'mostly true',\n",
       " 'text': 'With the Hillary Clinton-Donald Trump debates upon us, the quadrennial question comes begging: Do these showdowns matter? The chances for impact seem ripe this year. The two most unpopular major-party candidates in the history of ABC News/Washington Post polls are facing off. Donald Trump\\'s unorthodox campaign style and provocative positions have piqued public interest; the debates may be the single best opportunity for him to allay concerns about his qualifications, temperament and policy promises alike. Hillary Clinton, for her part, needs -– like Trump -– to ease questions about her trustworthiness, as well as to spark greater enthusiasm among her supporters. Can either candidate move the needle? It will be tough: A review of data since 1960 suggests that past debates have almost never directly and measurably changed the candidates\\' relative standings. That\\'s admittedly a high standard, though, and at least some debates may have had more subtle impacts. Debates have been held in 11 presidential races since 1960. We find just one after which the lead in presidential preference changed hands by a significant margin: In 1980, when Ronald Reagan uttered his \"are you better off?\" line. He gained 7 points in a post-debate poll. Still, there are other cases in which debates (or post-debate evaluations) may have influenced campaign dynamics. Debates are, after all, an essential window on the candidates’ styles and grasp of the issues. They can seem to add or reverse momentum. And polls are only so precise. Consider 1960: After Richard Nixon’s pasty-faced performance, John F. Kennedy went from 46 percent support to 49 percent in Gallup data; Nixon, from 47 percent to 46 percent. Those changes were within the polls\\' margin of sampling error. Nonetheless, the numerical \"lead\" switched, and collective memory maintains that the debates spelled Nixon\\'s narrow defeat. Nor did Gallup polls show significant movement immediately after the 1976 debate in which Gerald Ford said Poland was free (and news reports pounced on the misstatement); Jimmy Carter gained a single point, Ford lost 3. Still, even if not measurably, the gaffe may have halted what had been a slide in Carter\\'s lead. Then 73-year-old Reagan\\'s teasing jibe in 1984 about 56-year-old Walter Mondale\\'s \"youth and inexperience\" didn\\'t meaningfully change the numbers in ABC News/Washington Post polls, but perhaps helped put aside questions about Reagan\\'s age and acuity. In 2000, Al Gore\\'s wonk-heavy performance saw him go in at +2 and leave at -3, but again, that was within sampling error. There\\'s also the question of missed opportunities, as in Mike Dukakis\\' bloodless answer, in 1988, to what he\\'d do if his wife were raped and murdered. He didn\\'t seize on the chance to show a non-technocratic side. And ABC/Post polls did not meaningfully move. ABC News/Washington Post polls in 1996, 2004, 2008 and 2012 also showed no significant movement around the debates. In 1992 there was more movement, including a significant gain for Ross Perot, but never enough to change Bill Clinton’s advantage. In instant reactions, at least, polling has found that debates typically reinforce preconceived notions rather than change them. Most of each candidates\\' supporters say it\\'s their candidate who won, and precious few say their minds were changed. But post-debate evaluations can shift. In 1992, right after the first debate, 24 percent of viewers said Perot had won. By the next night, amid positive reviews of Perot\\'s performance, that grew to 37 percent among people who\\'d watched, heard or read about it. And Perot\\'s support did advance, from 6 percent before the debates to 17 percent after them. That shift may have been real, but it also may have reflected the challenges of immediate post-debate reaction polls. Conducted in mere minutes, among individuals pre-recruited to participate, they\\'re subject to considerable sampling and weighting limitations. Further, some ask who \"won,\" others who \"did the better job\"; some accept \"tie\" as an answer and some don\\'t. Instant reactions also bypass the role of considered judgment. Hard as it may be to believe in the Twitter Age, sometimes people actually need a little while to think about things. The clearest response to the debates this year may take some days to emerge.  Here\\'s a rundown of the measurable debate effect (or lack thereof) in each election since 1960. There were no debates in 1964, 1968 or 1972. Click here for data tables associated with each election. 1960: Gallup had Nixon +1, but that was 12 days before the first debate; it had Kennedy +3 after it. Twelve days is a long time and 4 points is a small number. Gallup didn\\'t poll between the remaining three debates, but showed Kennedy +4 after the last one. 1976: News reports jumped on Ford\\'s misstatement of Soviet domination of Eastern Europe in the second debate. Carter\\'s lead had been diminishing, and that did stop after this debate. But the measured change after the second debate was tiny -- Carter gained 1 point, Ford lost 3. 1980: This one looks to have mattered: Gallup\\'s pre-debate poll had Carter +8; post-debate, Reagan +3. (John Anderson did not participate.) 1984: Mondale crept up, but Reagan stayed ahead by double digits nonetheless. 1988: We don\\'t have an ABC poll done right before the first debate; in a Gallup poll it was George H. W. Bush +8. Our poll after the second debate showed no meaningful movement. 1992: Perot moved up 5 points in ABC News polling after the first debate and 4 points after the third debate. Before the debates he had 6 percent support; after the last debate he was up to 17 percent. Clinton moved up by 5 points after the second debate, Bush down by 6, then Clinton down by 6 after the third. But Clinton led throughout. 1996: The race looked perhaps slightly tighter after the second debate, but Clinton maintained a double-digit lead throughout. 2000: Gore went in +2 and came out -3 -– a change of lead, but within sampling error. And a week after the last debate it was back to a dead heat, 47-47 percent. 2004: There were some wiggles in the debate period –- a 6-point lead for George W. Bush before the first debate was a dead heat before the third -– but when all was said and done the race after the debates looked a lot like the race before them. 2008: The main shift in vote preference came before the first debate, as Obama seized the reins of economic discontent after the failure of Lehman Brothers in mid-September. McCain\\'s +2 in early September, just after the GOP convention, proved to be his best. The race shifted to Obama +9 in an ABC/Post poll completed Sept. 22, four days before the first debate. Obama never trailed again. 2012: Obama was +2 ahead of the first debate in ABC/Post polls, within the margin of sampling error, +3 after the second debate and -1 after the final debate, all within sampling error.',\n",
       " 'author': 'GARY LANGER',\n",
       " 'title': \"The Impact of Debates? It's Debatable\",\n",
       " 'hyperlinks': [{'start': '1149',\n",
       "   'end': '1162',\n",
       "   'href': 'http://abcnews.go.com/topics/news/us/ronald-reagan.htm'},\n",
       "  {'start': '1548',\n",
       "   'end': '1561',\n",
       "   'href': 'http://abcnews.go.com/topics/news/history/richard-nixon.htm'},\n",
       "  {'start': '1897',\n",
       "   'end': '1909',\n",
       "   'href': 'http://abcnews.go.com/topics/news/elections/gallup-poll.htm'},\n",
       "  {'start': '1979',\n",
       "   'end': '1990',\n",
       "   'href': 'http://abcnews.go.com/topics/news/history/gerald-ford.htm'},\n",
       "  {'start': '2060',\n",
       "   'end': '2072',\n",
       "   'href': 'http://abcnews.go.com/topics/news/us/president-jimmy-carter.htm'},\n",
       "  {'start': '2271',\n",
       "   'end': '2285',\n",
       "   'href': 'http://abcnews.go.com/topics/news/us/walter-mondale.htm'},\n",
       "  {'start': '2466',\n",
       "   'end': '2473',\n",
       "   'href': 'http://abcnews.go.com/topics/news/us/al-gore.htm'},\n",
       "  {'start': '3060',\n",
       "   'end': '3072',\n",
       "   'href': 'http://abcnews.go.com/topics/news/us/bill-clinton.htm'},\n",
       "  {'start': '4456',\n",
       "   'end': '4513',\n",
       "   'href': 'http://www.langerresearch.com/wp-content/uploads/PollingMemoDoTheDebatesMatter.pdf'}],\n",
       " 'paragraph_spans': [('0', '121'),\n",
       "  ('122', '670'),\n",
       "  ('671', '970'),\n",
       "  ('971', '1244'),\n",
       "  ('1245', '1526'),\n",
       "  ('1527', '1888'),\n",
       "  ('1889', '2205'),\n",
       "  ('2206', '2578'),\n",
       "  ('2579', '2838'),\n",
       "  ('2839', '3085'),\n",
       "  ('3086', '3331'),\n",
       "  ('3332', '3685'),\n",
       "  ('3686', '4055'),\n",
       "  ('4056', '4313'),\n",
       "  ('4314', '4314'),\n",
       "  ('4315', '4455'),\n",
       "  ('4456', '4513'),\n",
       "  ('4514', '4771'),\n",
       "  ('4772', '5050'),\n",
       "  ('5051', '5190'),\n",
       "  ('5191', '5268'),\n",
       "  ('5269', '5446'),\n",
       "  ('5447', '5786'),\n",
       "  ('5787', '5913'),\n",
       "  ('5914', '6075'),\n",
       "  ('6076', '6321'),\n",
       "  ('6322', '6712'),\n",
       "  ('6713', '6898')],\n",
       " 'quote_spans': [('1176', '1195'),\n",
       "  ('1064', '1068'),\n",
       "  ('2289', '2311'),\n",
       "  ('3280', '3284'),\n",
       "  ('3988', '4006'),\n",
       "  ('2624', '2627')]}"
      ]
     },
     "execution_count": 33,
     "metadata": {},
     "output_type": "execute_result"
    }
   ],
   "source": [
    "webis_articles[0]"
   ]
  },
  {
   "cell_type": "code",
   "execution_count": 26,
   "metadata": {},
   "outputs": [],
   "source": [
    "webis_text_arr = [article['text'].encode('utf8').decode('utf8') for article in webis_articles]\n",
    "# sorted_webis_utokens = get_sorted_unique_tokens(webis_text_arr, tokenizer, True)"
   ]
  },
  {
   "cell_type": "code",
   "execution_count": 27,
   "metadata": {},
   "outputs": [],
   "source": [
    "# sorted_webis_utokens[:1000]"
   ]
  },
  {
   "cell_type": "markdown",
   "metadata": {},
   "source": [
    "##### Rumour"
   ]
  },
  {
   "cell_type": "code",
   "execution_count": 28,
   "metadata": {},
   "outputs": [],
   "source": [
    "with open(\"utils/id2text.pickle\", \"rb\") as input_file: \n",
    "    id2text = pickle.load(input_file)\n",
    "rumour_text_arr = list(id2text.values())\n",
    "# sorted_rumour_utokens = get_sorted_unique_tokens(rumour_text_arr, tokenizer, True)"
   ]
  },
  {
   "cell_type": "code",
   "execution_count": 29,
   "metadata": {},
   "outputs": [],
   "source": [
    "# sorted_rumour_utokens[:100]"
   ]
  },
  {
   "cell_type": "markdown",
   "metadata": {},
   "source": [
    "## Analysis!"
   ]
  },
  {
   "cell_type": "markdown",
   "metadata": {},
   "source": [
    "Some things to look for:\n",
    "\n",
    "- mutually exclusive unique top words (try different level of strictness. increasing the number of tasks for one mutual exclusive test will increase the strictness.)\n",
    "- overlap between unique top words\n",
    "- overlap between all words in general (not just top words. look for whole %) \n",
    "- unique top words\n",
    "- emotion words\n",
    "- other linguistic features\n",
    "\n",
    "\n",
    "- amongst different misinfo\n",
    "- between NLU tasks and misinfo\n",
    "- compared to other aux tasks\n"
   ]
  },
  {
   "cell_type": "code",
   "execution_count": 146,
   "metadata": {},
   "outputs": [],
   "source": [
    "# count overlap percentage\n",
    "def get_overlap_percentages_2(A, B, min_freq=0):\n",
    "    A = [w for w, freq in A if freq>=min_freq]\n",
    "    B = [w for w, freq in B if freq>=min_freq]\n",
    "\n",
    "        \n",
    "    setA, setB = set(A), set(B)\n",
    "\n",
    "    print(\"Set A: \", len(setA))\n",
    "    print(\"Set B: \", len(setB))\n",
    "   \n",
    "    AB_intersection = (setA.intersection(setB))\n",
    "    \n",
    "    print(\"all intersection\", len(AB_intersection))\n",
    "\n",
    "    print(\"Set A overlap: \", len(AB_intersection)/len(setA))\n",
    "    print(\"Set B overlap: \", len(AB_intersection)/len(setB))"
   ]
  },
  {
   "cell_type": "code",
   "execution_count": 238,
   "metadata": {},
   "outputs": [],
   "source": [
    "# count overlap percentage\n",
    "def get_overlap_percentages(dataset_arr, min_freq=0, match_size=False):\n",
    "    \n",
    "    new_dataset_arr = []\n",
    "    for dataset in dataset_arr:\n",
    "        new_dataset_arr.append([w for w, freq in dataset if freq>=min_freq])\n",
    "\n",
    "    if match_size:\n",
    "        min_size = min(map(len, new_dataset_arr))\n",
    "        new_dataset_arr = [dataset[:min_size] for dataset in new_dataset_arr]\n",
    "        \n",
    "    dataset_sets = [set(dataset) for dataset in new_dataset_arr]\n",
    "\n",
    "    if not match_size:\n",
    "        for idx, dataset in enumerate(dataset_sets):\n",
    "            print(\"Dataset {}: {}\".format(idx, len(dataset)))\n",
    "   \n",
    "\n",
    "    all_intersection = set.intersection(*dataset_sets)\n",
    "    \n",
    "    \n",
    "    if not match_size:\n",
    "        print(\"all intersection\", len(all_intersection))\n",
    "        for idx, dataset in enumerate(dataset_sets):\n",
    "            print(\"Dataset {} Overlap: {}\".format(idx, len(all_intersection)/len(dataset)))\n",
    "    else:\n",
    "        print(len(all_intersection))\n",
    "        print(min_size)\n",
    "        print(\"Overlap: \", len(all_intersection)/min_size)"
   ]
  },
  {
   "cell_type": "code",
   "execution_count": 211,
   "metadata": {},
   "outputs": [],
   "source": [
    "# # count overlap percentage\n",
    "# def get_overlap_percentages(A, B, C, min_freq=0, match_size=False):\n",
    "#     A = [w for w, freq in A if freq>=min_freq]\n",
    "#     B = [w for w, freq in B if freq>=min_freq]\n",
    "#     C = [w for w, freq in C if freq>=min_freq]\n",
    "\n",
    "#     if match_size:\n",
    "#         min_size = min([len(A), len(B), len(C)])\n",
    "#         A = A[:min_size]\n",
    "#         B = B[:min_size]\n",
    "#         C = C[:min_size]\n",
    "        \n",
    "#     setA, setB, setC = set(A), set(B), set(C)\n",
    "\n",
    "#     if not match_size:\n",
    "#         print(\"Set A: \", len(setA))\n",
    "#         print(\"Set B: \", len(setB))\n",
    "#         print(\"Set C: \", len(setC))\n",
    "   \n",
    "#     AB_intersection = (setA.intersection(setB))\n",
    "#     all_intersection = AB_intersection.intersection(setC)\n",
    "    \n",
    "#     if not match_size:\n",
    "#         print(\"all intersection\", len(AB_intersection))\n",
    "\n",
    "#         print(\"Set A overlap: \", len(all_intersection)/len(setA))\n",
    "#         print(\"Set B overlap: \", len(all_intersection)/len(setB))\n",
    "#         print(\"Set C overlap: \", len(all_intersection)/len(setC))\n",
    "#     else:\n",
    "#         print(\"Overlap: \", len(all_intersection)/len(setA))"
   ]
  },
  {
   "cell_type": "code",
   "execution_count": 212,
   "metadata": {},
   "outputs": [],
   "source": [
    "min_f = 3"
   ]
  },
  {
   "cell_type": "markdown",
   "metadata": {},
   "source": [
    "##### Overlap between dataset by capping smallest ds's size"
   ]
  },
  {
   "cell_type": "code",
   "execution_count": 240,
   "metadata": {},
   "outputs": [
    {
     "name": "stdout",
     "output_type": "stream",
     "text": [
      "Webis vs BASIL\n",
      "Dataset 0: 14368\n",
      "Dataset 1: 5330\n",
      "all intersection 4836\n",
      "Dataset 0 Overlap: 0.3365812917594655\n",
      "Dataset 1 Overlap: 0.9073170731707317\n"
     ]
    }
   ],
   "source": [
    "print(\"Webis vs BASIL\")\n",
    "get_overlap_percentages([sorted_webis_utokens, sorted_basil_utokens], min_f, False)"
   ]
  },
  {
   "cell_type": "code",
   "execution_count": 239,
   "metadata": {},
   "outputs": [
    {
     "name": "stdout",
     "output_type": "stream",
     "text": [
      "Webis vs BASIL\n",
      "3641\n",
      "5330\n",
      "Overlap:  0.6831144465290807\n"
     ]
    }
   ],
   "source": [
    "print(\"Webis vs BASIL\")\n",
    "get_overlap_percentages([sorted_webis_utokens, sorted_basil_utokens], min_f, True)"
   ]
  },
  {
   "cell_type": "code",
   "execution_count": 223,
   "metadata": {},
   "outputs": [
    {
     "name": "stdout",
     "output_type": "stream",
     "text": [
      "Webis vs BASIL vs Clickbait\n",
      "Overlap:  0.47373358348968103\n"
     ]
    }
   ],
   "source": [
    "print(\"Webis vs BASIL vs Clickbait\")\n",
    "get_overlap_percentages([sorted_webis_utokens, sorted_basil_utokens, sorted_clickbait_sns_utokens], min_f, True)"
   ]
  },
  {
   "cell_type": "code",
   "execution_count": 216,
   "metadata": {},
   "outputs": [
    {
     "name": "stdout",
     "output_type": "stream",
     "text": [
      "BASIL vs Clickbait vs Liar\n",
      "Overlap:  0.4195121951219512\n"
     ]
    }
   ],
   "source": [
    "print(\"BASIL vs Clickbait vs Liar\")\n",
    "get_overlap_percentages([sorted_basil_utokens, sorted_clickbait_sns_utokens, sorted_liar_utokens], min_f, True)"
   ]
  },
  {
   "cell_type": "code",
   "execution_count": 214,
   "metadata": {},
   "outputs": [
    {
     "name": "stdout",
     "output_type": "stream",
     "text": [
      "Webis vs BASIL vs Clickbait vs Liar\n",
      "Overlap:  0.3900562851782364\n"
     ]
    }
   ],
   "source": [
    "print(\"Webis vs BASIL vs Clickbait vs Liar\")\n",
    "get_overlap_percentages([sorted_webis_utokens, sorted_basil_utokens, sorted_clickbait_sns_utokens, sorted_liar_utokens], min_f, True)"
   ]
  },
  {
   "cell_type": "code",
   "execution_count": 224,
   "metadata": {},
   "outputs": [
    {
     "name": "stdout",
     "output_type": "stream",
     "text": [
      "Webis vs BASIL vs Clickbait vs Liar vs Rumour\n",
      "Overlap:  0.27786116322701687\n"
     ]
    }
   ],
   "source": [
    "print(\"Webis vs BASIL vs Clickbait vs Liar vs Rumour\")\n",
    "get_overlap_percentages([sorted_webis_utokens, sorted_basil_utokens, sorted_clickbait_sns_utokens, sorted_liar_utokens, sorted_rumour_utokens], min_f, True)"
   ]
  },
  {
   "cell_type": "code",
   "execution_count": 225,
   "metadata": {},
   "outputs": [
    {
     "name": "stdout",
     "output_type": "stream",
     "text": [
      "Webis vs BASIL vs Clickbait vs Liar vs FEVER\n",
      "Overlap:  0.22795497185741087\n"
     ]
    }
   ],
   "source": [
    "print(\"Webis vs BASIL vs Clickbait vs Liar vs FEVER\")\n",
    "get_overlap_percentages([sorted_webis_utokens, sorted_basil_utokens, sorted_clickbait_sns_utokens, sorted_liar_utokens, sorted_fever_utokens], min_f, True)"
   ]
  },
  {
   "cell_type": "code",
   "execution_count": 226,
   "metadata": {},
   "outputs": [
    {
     "name": "stdout",
     "output_type": "stream",
     "text": [
      "Webis vs BASIL vs Clickbait vs Liar vs FEVER vs Rumour\n",
      "Overlap:  0.1699812382739212\n"
     ]
    }
   ],
   "source": [
    "print(\"Webis vs BASIL vs Clickbait vs Liar vs FEVER vs Rumour\")\n",
    "get_overlap_percentages([sorted_webis_utokens, sorted_basil_utokens, sorted_clickbait_sns_utokens, sorted_liar_utokens, sorted_fever_utokens, sorted_rumour_utokens], min_f, True)"
   ]
  },
  {
   "cell_type": "code",
   "execution_count": null,
   "metadata": {},
   "outputs": [],
   "source": []
  },
  {
   "cell_type": "code",
   "execution_count": 142,
   "metadata": {
    "scrolled": true
   },
   "outputs": [
    {
     "name": "stdout",
     "output_type": "stream",
     "text": [
      "Liar vs FEVER vs Rumour\n",
      "Overlap:  0.2091891891891892\n"
     ]
    }
   ],
   "source": [
    "print(\"Liar vs FEVER vs Rumour\")\n",
    "get_overlap_percentages([sorted_liar_utokens, sorted_fever_utokens, sorted_rumour_utokens], min_f, True)"
   ]
  },
  {
   "cell_type": "code",
   "execution_count": 227,
   "metadata": {},
   "outputs": [
    {
     "name": "stdout",
     "output_type": "stream",
     "text": [
      "FEVER vs Rumour\n",
      "Overlap:  0.30490463215258856\n"
     ]
    }
   ],
   "source": [
    "print(\"FEVER vs Rumour\")\n",
    "get_overlap_percentages([sorted_fever_utokens, sorted_rumour_utokens], min_f, True)"
   ]
  },
  {
   "cell_type": "markdown",
   "metadata": {},
   "source": [
    "##### Overlap between dataset w/o cap"
   ]
  },
  {
   "cell_type": "code",
   "execution_count": 130,
   "metadata": {
    "scrolled": true
   },
   "outputs": [
    {
     "name": "stdout",
     "output_type": "stream",
     "text": [
      "Liar vs FEVER vs Rumour\n",
      "Set A:  5550\n",
      "Set B:  14680\n",
      "Set C:  24917\n",
      "all intersection 3617\n",
      "Set A overlap:  0.5432432432432432\n",
      "Set B overlap:  0.20538147138964577\n",
      "Set C overlap:  0.12100172572942168\n"
     ]
    }
   ],
   "source": [
    "print(\"Liar vs FEVER vs Rumour\")\n",
    "get_overlap_percentages(sorted_liar_utokens, sorted_fever_utokens, sorted_rumour_utokens, min_f, True)"
   ]
  },
  {
   "cell_type": "code",
   "execution_count": 91,
   "metadata": {},
   "outputs": [
    {
     "name": "stdout",
     "output_type": "stream",
     "text": [
      "FEVER vs Webis vs Rumour\n",
      "Set A:  21600\n",
      "Set B:  30935\n",
      "Set C:  96341\n",
      "all intersection 11117\n",
      "Set A overlap:  0.40162037037037035\n",
      "Set B overlap:  0.28042670114756746\n",
      "Set C overlap:  0.09004473692405103\n"
     ]
    }
   ],
   "source": [
    "print(\"FEVER vs Webis vs Rumour\")\n",
    "get_overlap_percentages(sorted_fever_utokens, sorted_webis_utokens, sorted_rumour_utokens, min_f)"
   ]
  },
  {
   "cell_type": "code",
   "execution_count": 66,
   "metadata": {
    "scrolled": true
   },
   "outputs": [
    {
     "name": "stdout",
     "output_type": "stream",
     "text": [
      "Liar vs Webis vs Rumour\n",
      "Set A:  13899\n",
      "Set B:  30935\n",
      "Set C:  96341\n",
      "all intersection 9817\n",
      "Set A overlap:  0.5760846104036261\n",
      "Set B overlap:  0.25883303701309196\n",
      "Set C overlap:  0.08311103268598001\n"
     ]
    }
   ],
   "source": [
    "print(\"Liar vs Webis vs Rumour\")\n",
    "get_overlap_percentages(sorted_liar_utokens, sorted_webis_utokens, sorted_rumour_utokens, min_f)"
   ]
  },
  {
   "cell_type": "markdown",
   "metadata": {},
   "source": [
    "##### 2 dataset comparison"
   ]
  },
  {
   "cell_type": "code",
   "execution_count": 157,
   "metadata": {},
   "outputs": [],
   "source": [
    "min_f=3"
   ]
  },
  {
   "cell_type": "code",
   "execution_count": 158,
   "metadata": {
    "scrolled": true
   },
   "outputs": [
    {
     "name": "stdout",
     "output_type": "stream",
     "text": [
      "Liar vs Rumour\n",
      "Set A:  5550\n",
      "Set B:  24917\n",
      "all intersection 3922\n",
      "Set A overlap:  0.7066666666666667\n",
      "Set B overlap:  0.15740257655415982\n"
     ]
    }
   ],
   "source": [
    "print(\"Liar vs Rumour\")\n",
    "get_overlap_percentages_2(sorted_liar_utokens, sorted_rumour_utokens, min_f)"
   ]
  },
  {
   "cell_type": "code",
   "execution_count": 159,
   "metadata": {},
   "outputs": [
    {
     "name": "stdout",
     "output_type": "stream",
     "text": [
      "Liar vs Webis\n",
      "Set A:  5550\n",
      "Set B:  14368\n",
      "all intersection 4602\n",
      "Set A overlap:  0.8291891891891892\n",
      "Set B overlap:  0.3202951002227171\n"
     ]
    }
   ],
   "source": [
    "print(\"Liar vs Webis\")\n",
    "get_overlap_percentages_2(sorted_liar_utokens, sorted_webis_utokens, min_f)"
   ]
  },
  {
   "cell_type": "code",
   "execution_count": 160,
   "metadata": {
    "scrolled": true
   },
   "outputs": [
    {
     "name": "stdout",
     "output_type": "stream",
     "text": [
      "Rumour vs Webis\n",
      "Set A:  24917\n",
      "Set B:  14368\n",
      "all intersection 8262\n",
      "Set A overlap:  0.33158084841674357\n",
      "Set B overlap:  0.5750278396436526\n"
     ]
    }
   ],
   "source": [
    "print(\"Rumour vs Webis\")\n",
    "get_overlap_percentages_2(sorted_rumour_utokens, sorted_webis_utokens, min_f)"
   ]
  },
  {
   "cell_type": "code",
   "execution_count": 161,
   "metadata": {},
   "outputs": [
    {
     "name": "stdout",
     "output_type": "stream",
     "text": [
      "Liar vs FEVER\n",
      "Set A:  5550\n",
      "Set B:  14680\n",
      "all intersection 3617\n",
      "Set A overlap:  0.6517117117117117\n",
      "Set B overlap:  0.24638964577656675\n"
     ]
    }
   ],
   "source": [
    "print(\"Liar vs FEVER\")\n",
    "get_overlap_percentages_2(sorted_liar_utokens, sorted_fever_utokens, min_f)"
   ]
  },
  {
   "cell_type": "code",
   "execution_count": 162,
   "metadata": {},
   "outputs": [
    {
     "name": "stdout",
     "output_type": "stream",
     "text": [
      "Rumour vs FEVER\n",
      "Set A:  24917\n",
      "Set B:  14680\n",
      "all intersection 5823\n",
      "Set A overlap:  0.23369587028936067\n",
      "Set B overlap:  0.39666212534059947\n"
     ]
    }
   ],
   "source": [
    "print(\"Rumour vs FEVER\")\n",
    "get_overlap_percentages_2(sorted_rumour_utokens, sorted_fever_utokens, min_f)"
   ]
  },
  {
   "cell_type": "markdown",
   "metadata": {},
   "source": [
    "##### Common interaction between Liar, Webis, Rumour"
   ]
  },
  {
   "cell_type": "code",
   "execution_count": 48,
   "metadata": {},
   "outputs": [],
   "source": [
    "def get_unique_intersect_3(A, B, C):\n",
    "\n",
    "    setA = set([w for w, _ in A])\n",
    "    setB = set([w for w, _ in B])\n",
    "    setC = set([w for w, _ in C])\n",
    "\n",
    "    all_intersection = (setA.intersection(setB)).intersection(setC)\n",
    "\n",
    "    uniqA = setA - setB - setC\n",
    "    uniqB = setB - setA - setC\n",
    "    uniqC = setC - setA - setB\n",
    "\n",
    "    A_B = setA.intersection(setB) - all_intersection\n",
    "    A_C = setA.intersection(setC) - all_intersection\n",
    "    B_C = setB.intersection(setC) - all_intersection\n",
    "\n",
    "\n",
    "#     print(\"[  {}  ] {} unique words\\n\".format('A', len(uniqA)))\n",
    "#     print(\"[  {}  ] {} unique words\\n\".format('B', len(uniqB)))\n",
    "#     print(\"[  {}  ] {} unique words\\n\".format('C', len(uniqC)))\n",
    "\n",
    "    print(\"\\nCommon {} words:\\n\".format(len(all_intersection)), all_intersection)\n",
    "\n",
    "#     uniq_A = sorted([(w, dict(A)[w]) for w in uniqA], key=lambda tup: tup[1], reverse=True)\n",
    "#     uniq_B = sorted([(w, dict(B)[w]) for w in uniqB], key=lambda tup: tup[1], reverse=True)        \n",
    "#     uniq_C = sorted([(w, dict(C)[w]) for w in uniqC], key=lambda tup: tup[1], reverse=True)        \n",
    "\n",
    "    return all_intersection, A_B, A_C, B_C"
   ]
  },
  {
   "cell_type": "code",
   "execution_count": 71,
   "metadata": {},
   "outputs": [
    {
     "name": "stdout",
     "output_type": "stream",
     "text": [
      "\n",
      "Common 291 words:\n",
      " {'allowed', 'force', 'gets', 'east', 'west', 'citizens', '10', 'wants', 'military', 'police', 'system', 'civil', 'violence', 'got', 'line', 'evidence', 'state', 'weapons', 'right', 'liberal', 'kind', 'different', 'found', 'u.s', 'investigation', 'live', 'set', 'victims', 'held', 'past', 'place', 'news', 'report', 'protect', 'mike', 'running', 'want', 'little', 'paid', 'act', 'living', 'security', 'close', 'political', 'obama', 'free', 'media', 'year', 'social', 'long', '11', 'issue', 'money', 'young', 'went', 'sent', 'photo', 'shows', 'week', 'war', 'justice', 'staff', \"'s\", 'business', 'al', \"'ve\", 'getting', '20', 'groups', 'israel', 'problem', 'cause', 'came', 'shootings', 'responsible', 'muslim', 'area', 'point', 'officers', 'high', 'government', 'american', 'board', 'makes', 'deal', 'black', 'common', \"n't\", 'control', 'attacks', 'human', 'criminal', '100', 'looking', 'having', 'great', 'race', 'making', 'fight', 'tell', 'rest', '6', 'majority', 'women', 'good', 'likely', 'outside', 'russia', '$', 'thing', 'means', 'iraq', 'muslims', 'terrorists', 'man', 'share', '4', 'families', 'goes', 'terrorism', 'americans', '5', 'look', 'child', 'attack', 'coming', 'days', 'national', \"'re\", 'islamic', 'school', 'taken', 'lost', 'turn', 'old', 'probably', 'house', 'saying', '3', 'office', 'laws', 'saw', 'believe', 'change', 'left', 'find', 'information', 'years', 'think', 'use', 'home', 'crisis', 'things', 'action', 'worse', 'reason', 'fox', 'million', 'public', 'countries', 'let', 'come', 'help', 'terrorist', 'local', '12', 'says', 'released', 'group', 'know', 'nation', 'anti', 'children', 'giving', 'brought', 'saudi', 'times', 'gun', 'near', 'woman', 'according', 'life', 'run', 'true', 'comes', 'support', 'd', 'north', 'co', 'based', 'check', 'white', 'rights', 'took', 'speech', 'bring', 'told', 'men', 'open', 'list', 'work', 'worst', 'trying', 'street', 'related', 'idea', 'hard', '1', 'fact', 'need', 'entire', 'president', 'death', 'best', 'world', 'leaders', 'today', 'died', 'actually', '2', 'second', 'sign', 'leave', 'stop', 'air', 'america', 'building', 'pay', 'killed', 'city', 'watch', 'like', 'law', 'far', 'power', 'going', 'violent', '50', 'number', 'lives', 'syria', 'care', 'isis', 'team', 'wo', 'working', 'end', 'started', 'non', 'crime', 'day', 'middle', 'taking', 'new', 'family', 'start', 'community', 'history', 'fired', 'better', 'fire', 'called', 'job', 'given', 'instead', 'car', 'time', 'wanted', 'big', 'country', 'case', 'stand', 'needs', 'able', 'person', 'away', 'ago', 'states', 'lot', 'asked', 'talking', 'large', 'real', 'said', 'people', 'stay', 'guns', 'seen', 'including', 'way', 'hours'}\n"
     ]
    }
   ],
   "source": [
    "_, A_B, A_C, B_C = get_unique_intersect_3(sorted_liar_utokens[:1000], sorted_webis_utokens[:1000], sorted_rumour_utokens[:1000])"
   ]
  },
  {
   "cell_type": "markdown",
   "metadata": {},
   "source": [
    "##### Mutual exlcusive word list"
   ]
  },
  {
   "cell_type": "code",
   "execution_count": 51,
   "metadata": {},
   "outputs": [
    {
     "data": {
      "text/plain": [
       "{'15',\n",
       " '19',\n",
       " '2008',\n",
       " '2012',\n",
       " '2013',\n",
       " '2014',\n",
       " '2015',\n",
       " '2016',\n",
       " '22',\n",
       " '25',\n",
       " '30',\n",
       " '9',\n",
       " 'access',\n",
       " 'ad',\n",
       " 'added',\n",
       " 'administration',\n",
       " 'african',\n",
       " 'age',\n",
       " 'agreement',\n",
       " 'aid',\n",
       " 'allow',\n",
       " 'amendment',\n",
       " 'attorney',\n",
       " 'authority',\n",
       " 'bank',\n",
       " 'barack',\n",
       " 'began',\n",
       " 'bernie',\n",
       " 'biggest',\n",
       " 'bill',\n",
       " 'billion',\n",
       " 'birth',\n",
       " 'born',\n",
       " 'bush',\n",
       " 'businesses',\n",
       " 'california',\n",
       " 'campaign',\n",
       " 'candidate',\n",
       " 'candidates',\n",
       " 'career',\n",
       " 'carolina',\n",
       " 'cases',\n",
       " 'cash',\n",
       " 'center',\n",
       " 'choice',\n",
       " 'chris',\n",
       " 'christie',\n",
       " 'cities',\n",
       " 'claims',\n",
       " 'class',\n",
       " 'climate',\n",
       " 'clinton',\n",
       " 'college',\n",
       " 'commission',\n",
       " 'committee',\n",
       " 'communities',\n",
       " 'companies',\n",
       " 'company',\n",
       " 'compared',\n",
       " 'congress',\n",
       " 'congressional',\n",
       " 'conservative',\n",
       " 'constitution',\n",
       " 'convention',\n",
       " 'council',\n",
       " 'county',\n",
       " 'court',\n",
       " 'created',\n",
       " 'cruz',\n",
       " 'current',\n",
       " 'cut',\n",
       " 'data',\n",
       " 'david',\n",
       " 'debate',\n",
       " 'decades',\n",
       " 'decision',\n",
       " 'defense',\n",
       " 'democrat',\n",
       " 'democratic',\n",
       " 'democrats',\n",
       " 'department',\n",
       " 'despite',\n",
       " 'director',\n",
       " 'district',\n",
       " 'dollars',\n",
       " 'donald',\n",
       " 'drug',\n",
       " 'early',\n",
       " 'economic',\n",
       " 'economy',\n",
       " 'education',\n",
       " 'elected',\n",
       " 'election',\n",
       " 'elections',\n",
       " 'energy',\n",
       " 'enforcement',\n",
       " 'estate',\n",
       " 'everybody',\n",
       " 'executive',\n",
       " 'experience',\n",
       " 'failed',\n",
       " 'favor',\n",
       " 'fbi',\n",
       " 'federal',\n",
       " 'financial',\n",
       " 'florida',\n",
       " 'foreign',\n",
       " 'foundation',\n",
       " 'fund',\n",
       " 'funding',\n",
       " 'gave',\n",
       " 'general',\n",
       " 'george',\n",
       " 'global',\n",
       " 'gop',\n",
       " 'gov',\n",
       " 'governor',\n",
       " 'half',\n",
       " 'health',\n",
       " 'helped',\n",
       " 'hillary',\n",
       " 'hundreds',\n",
       " 'illegal',\n",
       " 'immigrants',\n",
       " 'immigration',\n",
       " 'impact',\n",
       " 'increase',\n",
       " 'individuals',\n",
       " 'interest',\n",
       " 'international',\n",
       " 'iran',\n",
       " 'issues',\n",
       " 'jersey',\n",
       " 'jim',\n",
       " 'jobs',\n",
       " 'joe',\n",
       " 'john',\n",
       " 'johnson',\n",
       " 'kaine',\n",
       " 'lawmakers',\n",
       " 'lead',\n",
       " 'leader',\n",
       " 'leadership',\n",
       " 'leading',\n",
       " 'led',\n",
       " 'legal',\n",
       " 'legislation',\n",
       " 'level',\n",
       " 'longer',\n",
       " 'lose',\n",
       " 'low',\n",
       " 'major',\n",
       " 'mark',\n",
       " 'mayor',\n",
       " 'medical',\n",
       " 'member',\n",
       " 'members',\n",
       " 'mexico',\n",
       " 'millions',\n",
       " 'month',\n",
       " 'months',\n",
       " 'nations',\n",
       " 'nearly',\n",
       " 'nominee',\n",
       " 'nuclear',\n",
       " 'numbers',\n",
       " 'officials',\n",
       " 'ohio',\n",
       " 'opponent',\n",
       " 'order',\n",
       " 'party',\n",
       " 'paul',\n",
       " 'paying',\n",
       " 'percent',\n",
       " 'personal',\n",
       " 'plan',\n",
       " 'plans',\n",
       " 'points',\n",
       " 'policies',\n",
       " 'policy',\n",
       " 'politicians',\n",
       " 'poll',\n",
       " 'polls',\n",
       " 'position',\n",
       " 'presidency',\n",
       " 'presidential',\n",
       " 'previous',\n",
       " 'primary',\n",
       " 'private',\n",
       " 'pro',\n",
       " 'program',\n",
       " 'provide',\n",
       " 'raise',\n",
       " 'raised',\n",
       " 'rate',\n",
       " 'reagan',\n",
       " 'received',\n",
       " 'recent',\n",
       " 'recently',\n",
       " 'record',\n",
       " 'records',\n",
       " 'reform',\n",
       " 'refugees',\n",
       " 'refused',\n",
       " 'reid',\n",
       " 'rep',\n",
       " 'republican',\n",
       " 'republicans',\n",
       " 'research',\n",
       " 'result',\n",
       " 'risk',\n",
       " 'romney',\n",
       " 'rules',\n",
       " 'ryan',\n",
       " 'sanders',\n",
       " 'scott',\n",
       " 'secretary',\n",
       " 'sen',\n",
       " 'senate',\n",
       " 'senator',\n",
       " 'served',\n",
       " 'service',\n",
       " 'single',\n",
       " 'small',\n",
       " 'south',\n",
       " 'special',\n",
       " 'spending',\n",
       " 'spent',\n",
       " 'student',\n",
       " 'students',\n",
       " 'super',\n",
       " 'supporting',\n",
       " 'supreme',\n",
       " 'tax',\n",
       " 'taxes',\n",
       " 'ted',\n",
       " 'term',\n",
       " 'terms',\n",
       " 'texas',\n",
       " 'thinks',\n",
       " 'thousands',\n",
       " 'total',\n",
       " 'trade',\n",
       " 'tried',\n",
       " 'trump',\n",
       " 'turned',\n",
       " 'union',\n",
       " 'united',\n",
       " 'university',\n",
       " 'virginia',\n",
       " 'vote',\n",
       " 'voter',\n",
       " 'voters',\n",
       " 'votes',\n",
       " 'voting',\n",
       " 'w.',\n",
       " 'wall',\n",
       " 'washington',\n",
       " 'water',\n",
       " 'weeks',\n",
       " 'won',\n",
       " 'worked',\n",
       " 'wrote',\n",
       " 'york'}"
      ]
     },
     "execution_count": 51,
     "metadata": {},
     "output_type": "execute_result"
    }
   ],
   "source": [
    "'LIAR'\n",
    "A_B"
   ]
  },
  {
   "cell_type": "code",
   "execution_count": 72,
   "metadata": {},
   "outputs": [
    {
     "data": {
      "text/plain": [
       "{'\\n',\n",
       " 'account',\n",
       " 'assault',\n",
       " 'brown',\n",
       " 'buy',\n",
       " 'carry',\n",
       " 'charlie',\n",
       " 'cover',\n",
       " 'coverage',\n",
       " 'crimes',\n",
       " 'die',\n",
       " 'flag',\n",
       " 'folks',\n",
       " 'gas',\n",
       " 'gone',\n",
       " 'kids',\n",
       " 'kill',\n",
       " 'm',\n",
       " 'market',\n",
       " 'mass',\n",
       " 'murder',\n",
       " 'nt',\n",
       " 'poor',\n",
       " 's',\n",
       " 'safety',\n",
       " 'save',\n",
       " 'send',\n",
       " 'shut',\n",
       " 'stopped',\n",
       " 'takes',\n",
       " 'thanks',\n",
       " 'worth'}"
      ]
     },
     "execution_count": 72,
     "metadata": {},
     "output_type": "execute_result"
    }
   ],
   "source": [
    "'Webis'\n",
    "A_C"
   ]
  },
  {
   "cell_type": "code",
   "execution_count": 53,
   "metadata": {},
   "outputs": [
    {
     "data": {
      "text/plain": [
       "{' ',\n",
       " '  ',\n",
       " \"'ll\",\n",
       " \"'m\",\n",
       " 'absolutely',\n",
       " 'actions',\n",
       " 'agree',\n",
       " 'answer',\n",
       " 'apparently',\n",
       " 'armed',\n",
       " 'article',\n",
       " 'ask',\n",
       " 'asking',\n",
       " 'attacked',\n",
       " 'attention',\n",
       " 'bad',\n",
       " 'bit',\n",
       " 'body',\n",
       " 'book',\n",
       " 'calling',\n",
       " 'chief',\n",
       " 'claim',\n",
       " 'clear',\n",
       " 'clearly',\n",
       " 'cnn',\n",
       " 'comment',\n",
       " 'completely',\n",
       " 'continue',\n",
       " 'course',\n",
       " 'dangerous',\n",
       " 'de',\n",
       " 'dead',\n",
       " 'earlier',\n",
       " 'especially',\n",
       " 'europe',\n",
       " 'event',\n",
       " 'events',\n",
       " 'exactly',\n",
       " 'example',\n",
       " 'face',\n",
       " 'facts',\n",
       " 'fair',\n",
       " 'false',\n",
       " 'fear',\n",
       " 'feel',\n",
       " 'fighting',\n",
       " 'following',\n",
       " 'forces',\n",
       " 'freedom',\n",
       " 'friend',\n",
       " 'friends',\n",
       " 'game',\n",
       " 'ground',\n",
       " 'guy',\n",
       " 'hall',\n",
       " 'hand',\n",
       " 'hands',\n",
       " 'happen',\n",
       " 'happened',\n",
       " 'happy',\n",
       " 'hate',\n",
       " 'head',\n",
       " 'hear',\n",
       " 'heard',\n",
       " 'hill',\n",
       " 'hit',\n",
       " 'hold',\n",
       " 'holding',\n",
       " 'hope',\n",
       " 'image',\n",
       " 'important',\n",
       " 'incident',\n",
       " 'injured',\n",
       " 'inside',\n",
       " 'involved',\n",
       " 'knew',\n",
       " 'known',\n",
       " 'knows',\n",
       " 'late',\n",
       " 'later',\n",
       " 'latest',\n",
       " 'lie',\n",
       " 'lies',\n",
       " 'looks',\n",
       " 'love',\n",
       " 'matter',\n",
       " 'maybe',\n",
       " 'mean',\n",
       " 'message',\n",
       " 'michael',\n",
       " 'mind',\n",
       " 'minister',\n",
       " 'minutes',\n",
       " 'moment',\n",
       " 'morning',\n",
       " 'mr',\n",
       " 'multiple',\n",
       " 'needed',\n",
       " 'night',\n",
       " 'n’t',\n",
       " 'officer',\n",
       " 'official',\n",
       " 'opinion',\n",
       " 'page',\n",
       " 'peace',\n",
       " 'play',\n",
       " 'pm',\n",
       " 'possible',\n",
       " 'post',\n",
       " 'press',\n",
       " 'pretty',\n",
       " 'protest',\n",
       " 'protesters',\n",
       " 'protests',\n",
       " 'putin',\n",
       " 'question',\n",
       " 'r',\n",
       " 'racism',\n",
       " 'racist',\n",
       " 'radical',\n",
       " 'read',\n",
       " 'reality',\n",
       " 'release',\n",
       " 'reported',\n",
       " 'reports',\n",
       " 'respect',\n",
       " 'response',\n",
       " 'safe',\n",
       " 'scene',\n",
       " 'self',\n",
       " 'sense',\n",
       " 'shooting',\n",
       " 'shot',\n",
       " 'showing',\n",
       " 'situation',\n",
       " 'son',\n",
       " 'soon',\n",
       " 'source',\n",
       " 'speak',\n",
       " 'standing',\n",
       " 'statement',\n",
       " 'story',\n",
       " 'strong',\n",
       " 'sure',\n",
       " 'suspect',\n",
       " 'talk',\n",
       " 'telling',\n",
       " 'terror',\n",
       " 'thinking',\n",
       " 'thought',\n",
       " 'threat',\n",
       " 'tonight',\n",
       " 'town',\n",
       " 'trust',\n",
       " 'truth',\n",
       " 'try',\n",
       " 'tv',\n",
       " 'tweet',\n",
       " 'tweeted',\n",
       " 'twitter',\n",
       " 'un',\n",
       " 'understand',\n",
       " 'video',\n",
       " 'view',\n",
       " 'watching',\n",
       " 'win',\n",
       " 'word',\n",
       " 'words',\n",
       " 'wrong',\n",
       " 'yes',\n",
       " '’s'}"
      ]
     },
     "execution_count": 53,
     "metadata": {},
     "output_type": "execute_result"
    }
   ],
   "source": [
    "'Rumour'\n",
    "B_C"
   ]
  },
  {
   "cell_type": "markdown",
   "metadata": {},
   "source": [
    "### Statistics"
   ]
  },
  {
   "cell_type": "code",
   "execution_count": 31,
   "metadata": {},
   "outputs": [],
   "source": [
    "import matplotlib.pyplot as plt\n",
    "from collections import Counter\n",
    "%matplotlib inline"
   ]
  },
  {
   "cell_type": "code",
   "execution_count": 20,
   "metadata": {},
   "outputs": [],
   "source": [
    "def liar_stats(text_arr):\n",
    "    word_list = []\n",
    "    sent_lens = []\n",
    "    for text in text_arr:\n",
    "        tokens = word_tokenize(text)\n",
    "        word_list.extend(tokens)\n",
    "        sent_lens.append(len(tokens))\n",
    "    print(\"Number of unique words: \", len(set(word_list)))\n",
    "    print(\"Max sentence length: \", max(sent_lens))\n",
    "    print(\"Min sentence length: \", min(sent_lens))\n",
    "    print(\"Avg sentence length: \", np.mean(np.array(sent_lens)))"
   ]
  },
  {
   "cell_type": "code",
   "execution_count": 41,
   "metadata": {},
   "outputs": [],
   "source": [
    "def draw_sent_len_plot(text_arr, data_name):\n",
    "    sent_lens = [len(word_tokenize(text)) for text in text_arr]\n",
    "    c = Counter(sent_lens)\n",
    "    plt.bar(list(c.keys()), c.values(), color='g')\n",
    "    plt.ylabel('Frequency')\n",
    "    plt.xlabel('Length of text')\n",
    "    plt.title(\"Text length distribution of {}\".format(data_name))\n",
    "    plt.show()"
   ]
  },
  {
   "cell_type": "code",
   "execution_count": 42,
   "metadata": {},
   "outputs": [
    {
     "data": {
      "image/png": "[encoded data removed]",
      "text/plain": [
       "<Figure size 432x288 with 1 Axes>"
      ]
     },
     "metadata": {
      "needs_background": "light"
     },
     "output_type": "display_data"
    },
    {
     "data": {
      "image/png": "[encoded data removed]",
      "text/plain": [
       "<Figure size 432x288 with 1 Axes>"
      ]
     },
     "metadata": {
      "needs_background": "light"
     },
     "output_type": "display_data"
    },
    {
     "data": {
      "image/png": "[encoded data removed]",
      "text/plain": [
       "<Figure size 432x288 with 1 Axes>"
      ]
     },
     "metadata": {
      "needs_background": "light"
     },
     "output_type": "display_data"
    },
    {
     "data": {
      "image/png": "[encoded data removed]",
      "text/plain": [
       "<Figure size 432x288 with 1 Axes>"
      ]
     },
     "metadata": {
      "needs_background": "light"
     },
     "output_type": "display_data"
    },
    {
     "data": {
      "image/png": "[encoded data removed]",
      "text/plain": [
       "<Figure size 432x288 with 1 Axes>"
      ]
     },
     "metadata": {
      "needs_background": "light"
     },
     "output_type": "display_data"
    },
    {
     "data": {
      "image/png": "[encoded data removed]",
      "text/plain": [
       "<Figure size 432x288 with 1 Axes>"
      ]
     },
     "metadata": {
      "needs_background": "light"
     },
     "output_type": "display_data"
    }
   ],
   "source": [
    "for text_arr, name in zip([clickbait_sns_text_data, basil_data_arr, fever_text_data, liar_data_text,\n",
    "                          webis_text_arr, rumour_text_arr],['clickbait_sns', 'basil', 'fever','liar', \n",
    "                                                            'webis', 'rumour']):\n",
    "    draw_sent_len_plot(text_arr, name)"
   ]
  },
  {
   "cell_type": "code",
   "execution_count": null,
   "metadata": {},
   "outputs": [],
   "source": []
  },
  {
   "cell_type": "markdown",
   "metadata": {},
   "source": [
    "load labels for each task"
   ]
  },
  {
   "cell_type": "code",
   "execution_count": 17,
   "metadata": {},
   "outputs": [
    {
     "name": "stdout",
     "output_type": "stream",
     "text": [
      "clickbait_sns.pickle\r\n",
      "event_to_thread_rumour_detection_dataset.pickle\r\n",
      "event_to_thread_veracity_detection_dataset.pickle\r\n",
      "id2text.pickle\r\n",
      "id2tweet.pickle\r\n",
      "liar_dev.pickle\r\n",
      "liar_test.pickle\r\n",
      "liar_train.pickle\r\n",
      "npy_data\r\n",
      "reply_stances_dataset.pickle\r\n",
      "rumoureval_tweet_annotations.pickle\r\n",
      "source_stance_dataset.pickle\r\n",
      "thread2branches_by_event.pickle\r\n",
      "thread2branches_by_event_split_branch.pickle\r\n",
      "thread_annotations_by_event.json\r\n",
      "thread_annotations.json\r\n",
      "tweet_annotations.json\r\n",
      "webis.pickle\r\n"
     ]
    }
   ],
   "source": [
    "! ls /mnt/vol/gfsai-east/aml/users/nayeon7lee/preprocessed"
   ]
  },
  {
   "cell_type": "code",
   "execution_count": 10,
   "metadata": {},
   "outputs": [],
   "source": [
    "with open('/home/nayeon7lee/misinfo_data/clickbait/truth.jsonl', 'r') as json_file:\n",
    "    json_list = list(json_file)\n",
    "    clickbait_sns_label = [json.loads(json_str)['truthClass'] for json_str in json_list]\n",
    "    clickbait_sns_label = [0 if label=='no-clickbait' else 1 for label in clickbait_sns_label]"
   ]
  },
  {
   "cell_type": "code",
   "execution_count": 23,
   "metadata": {},
   "outputs": [
    {
     "name": "stdout",
     "output_type": "stream",
     "text": [
      "1 0.24367898454294196\n",
      "0 0.756321015457058\n"
     ]
    }
   ],
   "source": [
    "total = sum(Counter(clickbait_sns_label).values())\n",
    "for key, count in Counter(clickbait_sns_label).items():\n",
    "    print(key, count/total)"
   ]
  },
  {
   "cell_type": "code",
   "execution_count": 8,
   "metadata": {},
   "outputs": [],
   "source": [
    "fever_map = {'SUPPORTS': 1, 'REFUTES': 0, 'NOT ENOUGH INFO': 2}\n",
    "with open('/home/nayeon7lee/misinfo_data/fever/train.jsonl', 'r') as json_file:\n",
    "    json_list = list(json_file)\n",
    "    fever_label = [json.loads(json_str)['label'] for json_str in json_list]\n",
    "    fever_label = [fever_map[label] for label in fever_label]"
   ]
  },
  {
   "cell_type": "code",
   "execution_count": 24,
   "metadata": {},
   "outputs": [
    {
     "name": "stdout",
     "output_type": "stream",
     "text": [
      "1 0.550261603723642\n",
      "0 0.20471092960419116\n",
      "2 0.24502746667216688\n"
     ]
    }
   ],
   "source": [
    "total = sum(Counter(fever_label).values())\n",
    "for key, count in Counter(fever_label).items():\n",
    "    print(key, count/total)"
   ]
  },
  {
   "cell_type": "code",
   "execution_count": 13,
   "metadata": {},
   "outputs": [
    {
     "name": "stdout",
     "output_type": "stream",
     "text": [
      "Counter({0: 2627, 1: 2507, 2: 2454, 3: 2103, 4: 2053, 5: 1047})\n"
     ]
    }
   ],
   "source": [
    "liar_map = {'half-true': 0, 'false': 1, 'mostly-true': 2, 'barely-true': 3, 'true': 4, 'pants-fire': 5}\n",
    "liar_data = load_liar(root_dir)\n",
    "liar_label = [liar_map[d['label']] for d in liar_data]\n",
    "print(Counter(liar_label))"
   ]
  },
  {
   "cell_type": "code",
   "execution_count": 25,
   "metadata": {},
   "outputs": [
    {
     "name": "stdout",
     "output_type": "stream",
     "text": [
      "1 0.1959971855210695\n",
      "0 0.20537878195606285\n",
      "2 0.19185364709561412\n",
      "4 0.16050347900867798\n",
      "3 0.16441247752325855\n",
      "5 0.08185442889531702\n"
     ]
    }
   ],
   "source": [
    "total = sum(Counter(liar_label).values())\n",
    "for key, count in Counter(liar_label).items():\n",
    "    print(key, count/total)"
   ]
  },
  {
   "cell_type": "code",
   "execution_count": 16,
   "metadata": {},
   "outputs": [
    {
     "name": "stdout",
     "output_type": "stream",
     "text": [
      "Counter({0: 1264, 2: 212, 3: 87, 1: 64})\n"
     ]
    }
   ],
   "source": [
    "webis_map = {'mostly true': 0,\n",
    "         'no factual content': 1,\n",
    "         'mixture of true and false': 2,\n",
    "         'mostly false': 3}\n",
    "\n",
    "webis_annotation = os.path.join(root_dir, 'webis/overview.csv')\n",
    "webis_article_path = os.path.join(root_dir, 'webis/articles')\n",
    "webis_articles = load_webis(webis_annotation, webis_article_path)\n",
    "webis_label = [webis_map[a['veracity_label']] for a in webis_articles]\n",
    "print(Counter(webis_label))"
   ]
  },
  {
   "cell_type": "code",
   "execution_count": 26,
   "metadata": {},
   "outputs": [
    {
     "name": "stdout",
     "output_type": "stream",
     "text": [
      "0 0.7768899815611555\n",
      "1 0.03933620159803319\n",
      "2 0.13030116779348494\n",
      "3 0.05347264904732637\n"
     ]
    }
   ],
   "source": [
    "total = sum(Counter(webis_label).values())\n",
    "for key, count in Counter(webis_label).items():\n",
    "    print(key, count/total)"
   ]
  },
  {
   "cell_type": "code",
   "execution_count": 18,
   "metadata": {},
   "outputs": [],
   "source": [
    "with open(\"/mnt/vol/gfsai-east/aml/users/nayeon7lee/preprocessed/id2text.pickle\", \"rb\") as input_file: \n",
    "    id2text = pickle.load(input_file)\n",
    "rumour_text_arr = list(id2text.values())\n",
    "# sorted_rumour_utokens = get_sorted_unique_tokens(rumour_text_arr, tokenizer, True)"
   ]
  },
  {
   "cell_type": "code",
   "execution_count": null,
   "metadata": {},
   "outputs": [],
   "source": []
  },
  {
   "cell_type": "code",
   "execution_count": 77,
   "metadata": {},
   "outputs": [],
   "source": [
    "def draw_label_plot(label_arr, data_name):\n",
    "    c = Counter(label_arr)\n",
    "    plt.bar(list(c.keys()), c.values(), color='g')\n",
    "    plt.ylabel('Frequency')\n",
    "    plt.xlabel('Classes')\n",
    "    plt.title(\"Distribution of classes in {}\".format(data_name))\n",
    "    plt.show()"
   ]
  },
  {
   "cell_type": "code",
   "execution_count": 79,
   "metadata": {},
   "outputs": [
    {
     "data": {
      "image/png": "[encoded data removed]",
      "text/plain": [
       "<Figure size 432x288 with 1 Axes>"
      ]
     },
     "metadata": {
      "needs_background": "light"
     },
     "output_type": "display_data"
    },
    {
     "data": {
      "image/png": "[encoded data removed]",
      "text/plain": [
       "<Figure size 432x288 with 1 Axes>"
      ]
     },
     "metadata": {
      "needs_background": "light"
     },
     "output_type": "display_data"
    },
    {
     "data": {
      "image/png": "[encoded data removed]",
      "text/plain": [
       "<Figure size 432x288 with 1 Axes>"
      ]
     },
     "metadata": {
      "needs_background": "light"
     },
     "output_type": "display_data"
    },
    {
     "data": {
      "image/png": "[encoded data removed]",
      "text/plain": [
       "<Figure size 432x288 with 1 Axes>"
      ]
     },
     "metadata": {
      "needs_background": "light"
     },
     "output_type": "display_data"
    }
   ],
   "source": [
    "for label_arr, name in zip([clickbait_sns_label, fever_label, liar_label,\n",
    "                          webis_label],['clickbait_sns', 'fever','liar', \n",
    "                                                            'webis']):\n",
    "    draw_label_plot(label_arr, name)"
   ]
  },
  {
   "cell_type": "markdown",
   "metadata": {},
   "source": [
    "### entropy and kurtosis"
   ]
  },
  {
   "cell_type": "code",
   "execution_count": 81,
   "metadata": {},
   "outputs": [
    {
     "name": "stdout",
     "output_type": "stream",
     "text": [
      "clickbait_sns: Kurtosis = -0.5740503959608323, Entropy = 8.468213009194518\n",
      "fever: Kurtosis = -0.7709004193384272, Entropy = 11.600589624932416\n",
      "liar: Kurtosis = -1.1202596516585401, Entropy = 9.10053271780069\n",
      "webis: Kurtosis = 1.3487311037888583, Entropy = 5.843529087789858\n"
     ]
    }
   ],
   "source": [
    "from scipy.stats import kurtosis, entropy\n",
    "for label_arr, name in zip([clickbait_sns_label, fever_label, liar_label,\n",
    "                          webis_label],['clickbait_sns', 'fever','liar', \n",
    "                                                            'webis']):\n",
    "    kurt_score = kurtosis(label_arr)\n",
    "    entropy_score = entropy(label_arr)\n",
    "    \n",
    "    print(\"{}: Kurtosis = {}, Entropy = {}\".format(name, kurt_score, entropy_score))"
   ]
  },
  {
   "cell_type": "code",
   "execution_count": null,
   "metadata": {},
   "outputs": [],
   "source": []
  }
 ],
 "metadata": {
  "kernelspec": {
   "display_name": "Python 3",
   "language": "python",
   "name": "python3"
  },
  "language_info": {
   "codemirror_mode": {
    "name": "ipython",
    "version": 3
   },
   "file_extension": ".py",
   "mimetype": "text/x-python",
   "name": "python",
   "nbconvert_exporter": "python",
   "pygments_lexer": "ipython3",
   "version": "3.7.4"
  }
 },
 "nbformat": 4,
 "nbformat_minor": 2
}
